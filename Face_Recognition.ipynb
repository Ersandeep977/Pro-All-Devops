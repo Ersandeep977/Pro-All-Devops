{
 "cells": [
  {
   "cell_type": "markdown",
   "id": "5cb7bc8b",
   "metadata": {},
   "source": [
    "# Face Recognition with Python, OpenCV & Deep Learning"
   ]
  },
  {
   "cell_type": "code",
   "execution_count": 4,
   "id": "b7248c88",
   "metadata": {},
   "outputs": [
    {
     "ename": "ModuleNotFoundError",
     "evalue": "No module named 'face_recognition'",
     "output_type": "error",
     "traceback": [
      "\u001b[1;31m---------------------------------------------------------------------------\u001b[0m",
      "\u001b[1;31mModuleNotFoundError\u001b[0m                       Traceback (most recent call last)",
      "\u001b[1;32m<ipython-input-4-e0b3cc041ffe>\u001b[0m in \u001b[0;36m<module>\u001b[1;34m\u001b[0m\n\u001b[1;32m----> 1\u001b[1;33m \u001b[1;32mimport\u001b[0m \u001b[0mface_recognition\u001b[0m\u001b[1;33m\u001b[0m\u001b[1;33m\u001b[0m\u001b[0m\n\u001b[0m\u001b[0;32m      2\u001b[0m \u001b[1;32mimport\u001b[0m \u001b[0mcv2\u001b[0m\u001b[1;33m\u001b[0m\u001b[1;33m\u001b[0m\u001b[0m\n\u001b[0;32m      3\u001b[0m \u001b[1;32mimport\u001b[0m \u001b[0mnumpy\u001b[0m \u001b[1;32mas\u001b[0m \u001b[0mnp\u001b[0m\u001b[1;33m\u001b[0m\u001b[1;33m\u001b[0m\u001b[0m\n\u001b[0;32m      4\u001b[0m \u001b[1;32mimport\u001b[0m \u001b[0mglob\u001b[0m\u001b[1;33m\u001b[0m\u001b[1;33m\u001b[0m\u001b[0m\n\u001b[0;32m      5\u001b[0m \u001b[1;32mimport\u001b[0m \u001b[0mpickle\u001b[0m\u001b[1;33m\u001b[0m\u001b[1;33m\u001b[0m\u001b[0m\n",
      "\u001b[1;31mModuleNotFoundError\u001b[0m: No module named 'face_recognition'"
     ]
    }
   ],
   "source": [
    "import face_recognition\n",
    "import cv2\n",
    "import numpy as np\n",
    "import glob\n",
    "import pickle"
   ]
  },
  {
   "cell_type": "code",
   "execution_count": 2,
   "id": "d2d45814",
   "metadata": {},
   "outputs": [
    {
     "name": "stdout",
     "output_type": "stream",
     "text": [
      "enter namesa\n",
      "enter id12\n"
     ]
    }
   ],
   "source": [
    "f=open(\"ref_name.pkl\",\"rb\")\n",
    "ref_dictt=pickle.load(f)        \n",
    "f.close()\n",
    "\n",
    "f=open(\"ref_embed.pkl\",\"rb\")\n",
    "embed_dictt=pickle.load(f)      \n",
    "f.close()"
   ]
  },
  {
   "cell_type": "code",
   "execution_count": 3,
   "id": "fc5a1ea6",
   "metadata": {},
   "outputs": [
    {
     "ename": "IndentationError",
     "evalue": "expected an indented block (<ipython-input-3-153e0944a682>, line 23)",
     "output_type": "error",
     "traceback": [
      "\u001b[1;36m  File \u001b[1;32m\"<ipython-input-3-153e0944a682>\"\u001b[1;36m, line \u001b[1;32m23\u001b[0m\n\u001b[1;33m    key = cv2. waitKey(1)\u001b[0m\n\u001b[1;37m    ^\u001b[0m\n\u001b[1;31mIndentationError\u001b[0m\u001b[1;31m:\u001b[0m expected an indented block\n"
     ]
    }
   ],
   "source": [
    "try:\n",
    "    f=open(\"ref_name.pkl\",\"rb\")\n",
    "\n",
    "    ref_dictt=pickle.load(f)\n",
    "    f.close()\n",
    "except:\n",
    "    ref_dictt={}\n",
    "ref_dictt[ref_id]=name\n",
    "\n",
    "\n",
    "f=open(\"ref_name.pkl\",\"wb\")\n",
    "pickle.dump(ref_dictt,f)\n",
    "f.close()\n",
    "\n",
    "try:\n",
    "    f=open(\"ref_embed.pkl\",\"rb\")\n",
    "\n",
    "    embed_dictt=pickle.load(f)\n",
    "    f.close()\n",
    "except:\n",
    "    embed_dictt={}\n",
    "    for i in range(5):\n",
    "    key = cv2. waitKey(1)\n",
    "    webcam = cv2.VideoCapture(0)\n",
    "    while True:\n",
    "       \n",
    "        check, frame = webcam.read()\n",
    "\n",
    "        cv2.imshow(\"Capturing\", frame)\n",
    "        small_frame = cv2.resize(frame, (0, 0), fx=0.25, fy=0.25)\n",
    "        rgb_small_frame = small_frame[:, :, ::-1]\n",
    "  \n",
    "        key = cv2.waitKey(1)\n",
    "\n",
    "        if key == ord('s') : \n",
    "            face_locations = face_recognition.face_locations(rgb_small_frame)\n",
    "            if face_locations != []:\n",
    "                face_encoding = face_recognition.face_encodings(frame)[0]\n",
    "                if ref_id in embed_dictt:\n",
    "                    embed_dictt[ref_id]+=[face_encoding]\n",
    "                else:\n",
    "                    embed_dictt[ref_id]=[face_encoding]\n",
    "                webcam.release()\n",
    "                cv2.waitKey(1)\n",
    "                cv2.destroyAllWindows()     \n",
    "                break\n",
    "        elif key == ord('q'):\n",
    "            print(\"Turning off camera.\")\n",
    "            webcam.release()\n",
    "            print(\"Camera off.\")\n",
    "            print(\"Program ended.\")\n",
    "            cv2.destroyAllWindows()\n",
    "            break\n",
    "f=open(\"ref_embed.pkl\",\"wb\")\n",
    "pickle.dump(embed_dictt,f)\n",
    "f.close()"
   ]
  },
  {
   "cell_type": "code",
   "execution_count": null,
   "id": "bb2ea70b",
   "metadata": {},
   "outputs": [],
   "source": [
    "for i in range(5):\n",
    "    key = cv2. waitKey(1)\n",
    "    webcam = cv2.VideoCapture(0)\n",
    "    while True:\n",
    "       \n",
    "        check, frame = webcam.read()\n",
    "\n",
    "        cv2.imshow(\"Capturing\", frame)\n",
    "        small_frame = cv2.resize(frame, (0, 0), fx=0.25, fy=0.25)\n",
    "        rgb_small_frame = small_frame[:, :, ::-1]\n",
    "  \n",
    "        key = cv2.waitKey(1)\n",
    "\n",
    "        if key == ord('s') : \n",
    "            face_locations = face_recognition.face_locations(rgb_small_frame)\n",
    "            if face_locations != []:\n",
    "                face_encoding = face_recognition.face_encodings(frame)[0]\n",
    "                if ref_id in embed_dictt:\n",
    "                    embed_dictt[ref_id]+=[face_encoding]\n",
    "                else:\n",
    "                    embed_dictt[ref_id]=[face_encoding]\n",
    "                webcam.release()\n",
    "                cv2.waitKey(1)\n",
    "                cv2.destroyAllWindows()     \n",
    "                break\n",
    "        elif key == ord('q'):\n",
    "            print(\"Turning off camera.\")\n",
    "            webcam.release()\n",
    "            print(\"Camera off.\")\n",
    "            print(\"Program ended.\")\n",
    "            cv2.destroyAllWindows()\n",
    "            break\n",
    "f=open(\"ref_embed.pkl\",\"wb\")\n",
    "pickle.dump(embed_dictt,f)\n",
    "f.close()"
   ]
  },
  {
   "cell_type": "code",
   "execution_count": null,
   "id": "9babfeca",
   "metadata": {},
   "outputs": [],
   "source": []
  },
  {
   "cell_type": "code",
   "execution_count": null,
   "id": "afa9d516",
   "metadata": {},
   "outputs": [],
   "source": []
  }
 ],
 "metadata": {
  "kernelspec": {
   "display_name": "Python 3",
   "language": "python",
   "name": "python3"
  },
  "language_info": {
   "codemirror_mode": {
    "name": "ipython",
    "version": 3
   },
   "file_extension": ".py",
   "mimetype": "text/x-python",
   "name": "python",
   "nbconvert_exporter": "python",
   "pygments_lexer": "ipython3",
   "version": "3.8.8"
  }
 },
 "nbformat": 4,
 "nbformat_minor": 5
}
